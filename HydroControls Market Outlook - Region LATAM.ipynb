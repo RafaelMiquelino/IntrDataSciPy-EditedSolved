{
 "cells": [
  {
   "cell_type": "code",
   "execution_count": 64,
   "metadata": {
    "collapsed": true
   },
   "outputs": [],
   "source": [
    "import pandas as pd"
   ]
  },
  {
   "cell_type": "code",
   "execution_count": 65,
   "metadata": {
    "collapsed": true,
    "scrolled": true
   },
   "outputs": [],
   "source": [
    "dfRegionalIB=pd.read_excel('MACA/MACA 2017 Installed base database End 2016_regional_files_All_Latin America.xlsx',\n",
    "                           sheetname='Regional IB-List of units')"
   ]
  },
  {
   "cell_type": "code",
   "execution_count": 66,
   "metadata": {
    "collapsed": true
   },
   "outputs": [],
   "source": [
    "dfRegionalIB = dfRegionalIB[[\"GGO Region 13\",\n",
    "                             \"Regional_Top_Down_61\",\n",
    "                             \"Country\",\n",
    "                             \"PLANT Name\",\n",
    "                             \"UNIT\",\n",
    "                             \"COMPANY (Plant Owner)\",\n",
    "                             \"Parent Company\",\n",
    "                             \"MW\",\n",
    "                             \"Status at the end of 2016\",\n",
    "                             \"Commisioning Year\",\n",
    "                             \"Plant Type\",\n",
    "                             \"Turbine Type\",\n",
    "                             \"Turbine Short Name\",\n",
    "                             \"Turbine Current Grouping\",\n",
    "                             \"Generator Short Name\",\n",
    "                             \"Generator Current Grouping\",\n",
    "                             \"CITY\",\n",
    "                             \"STATE\",\n",
    "                             \"Age\"]]"
   ]
  },
  {
   "cell_type": "code",
   "execution_count": 67,
   "metadata": {
    "collapsed": true
   },
   "outputs": [],
   "source": [
    "dfRegionalIB = dfRegionalIB[(dfRegionalIB['Plant Type'].isin(['Hydro PSP','Hydro Standard'])\n",
    "                             & (dfRegionalIB['Status at the end of 2016']=='Commercial operation')\n",
    "                             & (~dfRegionalIB['UNIT'].str.contains('MISSING HYDRO',case=False))\n",
    "                            )]"
   ]
  },
  {
   "cell_type": "code",
   "execution_count": 68,
   "metadata": {
    "scrolled": true
   },
   "outputs": [
    {
     "data": {
      "text/plain": [
       "PLANT Name                      40\n",
       "COMPANY (Plant Owner)           30\n",
       "Parent Company                3394\n",
       "Commisioning Year              332\n",
       "Turbine Type                   569\n",
       "Turbine Short Name             917\n",
       "Turbine Current Grouping       872\n",
       "Generator Short Name          1839\n",
       "Generator Current Grouping    1809\n",
       "CITY                           662\n",
       "STATE                          285\n",
       "Age                            332\n",
       "dtype: int64"
      ]
     },
     "execution_count": 68,
     "metadata": {},
     "output_type": "execute_result"
    }
   ],
   "source": [
    "dfRegionalIB[dfRegionalIB.columns[dfRegionalIB.isnull().any()].tolist()].isnull().sum()"
   ]
  },
  {
   "cell_type": "code",
   "execution_count": 69,
   "metadata": {
    "scrolled": true
   },
   "outputs": [
    {
     "data": {
      "text/plain": [
       "MW                   119\n",
       "Commisioning Year    343\n",
       "Age                  343\n",
       "dtype: int64"
      ]
     },
     "execution_count": 69,
     "metadata": {},
     "output_type": "execute_result"
    }
   ],
   "source": [
    "import numpy as np\n",
    "dfRegionalIB_num = dfRegionalIB.select_dtypes(['number'])\n",
    "dfRegionalIB_num.apply(lambda x: (~(np.abs(x - x.mean()) <= 3*x.std()))).sum()"
   ]
  },
  {
   "cell_type": "code",
   "execution_count": 70,
   "metadata": {
    "collapsed": true
   },
   "outputs": [],
   "source": [
    "def removeNumbers(series):\n",
    "    series = series.str.replace('\\d+', '')\n",
    "    return series"
   ]
  },
  {
   "cell_type": "code",
   "execution_count": 71,
   "metadata": {
    "collapsed": true
   },
   "outputs": [],
   "source": [
    "def trimSeries(series):\n",
    "    series = series.str.strip()\n",
    "    return series"
   ]
  },
  {
   "cell_type": "code",
   "execution_count": 72,
   "metadata": {
    "collapsed": true
   },
   "outputs": [],
   "source": [
    "#Complete plant names based on unit names: 100% completed\n",
    "dfRegionalIB['PLANT Name'] = dfRegionalIB['PLANT Name'].fillna(\n",
    "    trimSeries(\n",
    "        removeNumbers(\n",
    "            dfRegionalIB['UNIT'])))"
   ]
  },
  {
   "cell_type": "code",
   "execution_count": 73,
   "metadata": {
    "collapsed": true
   },
   "outputs": [],
   "source": [
    "def fillNAMultiIndex(index_series,na_series):\n",
    "    df = pd.concat([index_series,na_series],axis=1,join='inner')\n",
    "    df = df.groupby(df.columns[0]).bfill()\n",
    "    df = df.groupby(df.columns[0]).ffill()\n",
    "    return df.iloc[:,1]"
   ]
  },
  {
   "cell_type": "code",
   "execution_count": 74,
   "metadata": {
    "scrolled": true
   },
   "outputs": [
    {
     "data": {
      "text/plain": [
       "COMPANY (Plant Owner)           30\n",
       "Parent Company                3394\n",
       "Commisioning Year              332\n",
       "Turbine Type                   569\n",
       "Turbine Short Name             917\n",
       "Turbine Current Grouping       872\n",
       "Generator Short Name          1839\n",
       "Generator Current Grouping    1809\n",
       "CITY                           662\n",
       "STATE                          285\n",
       "Age                            332\n",
       "dtype: int64"
      ]
     },
     "execution_count": 74,
     "metadata": {},
     "output_type": "execute_result"
    }
   ],
   "source": [
    "dfRegionalIB[dfRegionalIB.columns[dfRegionalIB.isnull().any()].tolist()].isnull().sum()"
   ]
  },
  {
   "cell_type": "code",
   "execution_count": 75,
   "metadata": {
    "collapsed": true
   },
   "outputs": [],
   "source": [
    "naColumnList = dfRegionalIB.columns[dfRegionalIB.isnull().any()].tolist()\n",
    "\n",
    "for column in naColumnList:\n",
    "    dfRegionalIB[column] = fillNAMultiIndex(dfRegionalIB['PLANT Name'],dfRegionalIB[column])    "
   ]
  },
  {
   "cell_type": "code",
   "execution_count": 76,
   "metadata": {
    "scrolled": false
   },
   "outputs": [
    {
     "data": {
      "text/plain": [
       "COMPANY (Plant Owner)           23\n",
       "Parent Company                3310\n",
       "Commisioning Year              318\n",
       "Turbine Type                   500\n",
       "Turbine Short Name             805\n",
       "Turbine Current Grouping       763\n",
       "Generator Short Name          1666\n",
       "Generator Current Grouping    1638\n",
       "CITY                           629\n",
       "STATE                          247\n",
       "Age                            318\n",
       "dtype: int64"
      ]
     },
     "execution_count": 76,
     "metadata": {},
     "output_type": "execute_result"
    }
   ],
   "source": [
    "dfRegionalIB[dfRegionalIB.columns[dfRegionalIB.isnull().any()].tolist()].isnull().sum()"
   ]
  },
  {
   "cell_type": "code",
   "execution_count": 77,
   "metadata": {
    "collapsed": true
   },
   "outputs": [],
   "source": [
    "#!!TORNAR MÉTODO DE DETECÇÃO DE OUTLIERS MAIS ROBUSTO!! Eliminar valores coerentes\n",
    "\n",
    "def detectOutliers(series,std_dev_lim=3):\n",
    "    import numpy as np\n",
    "    seriesOutliers = series.loc[~(np.abs(series-series.mean())<=(3*series.std()))].sort_values().unique().tolist()\n",
    "    return seriesOutliers"
   ]
  },
  {
   "cell_type": "code",
   "execution_count": 78,
   "metadata": {},
   "outputs": [
    {
     "data": {
      "text/plain": [
       "[310.0,\n",
       " 315.0,\n",
       " 320.0,\n",
       " 340.0,\n",
       " 350.0,\n",
       " 360.0,\n",
       " 364.0,\n",
       " 365.0,\n",
       " 375.0,\n",
       " 380.0,\n",
       " 400.0,\n",
       " 402.0,\n",
       " 410.0,\n",
       " 430.0,\n",
       " 502.0,\n",
       " 527.0,\n",
       " 620.0,\n",
       " 700.0,\n",
       " 730.0,\n",
       " 740.0,\n",
       " 750.0,\n",
       " 770.0]"
      ]
     },
     "execution_count": 78,
     "metadata": {},
     "output_type": "execute_result"
    }
   ],
   "source": [
    "detectOutliers(dfRegionalIB['MW'])\n",
    "# Outliers are OK"
   ]
  },
  {
   "cell_type": "code",
   "execution_count": 86,
   "metadata": {},
   "outputs": [
    {
     "data": {
      "text/plain": [
       "[1893.0, 1895.0, 1898.0, 1904.0, 1905.0, 1906.0, 1908.0, nan]"
      ]
     },
     "execution_count": 86,
     "metadata": {},
     "output_type": "execute_result"
    }
   ],
   "source": [
    "detectOutliers(dfRegionalIB['Commisioning Year'])\n",
    "#Outliers are 0 and NaN"
   ]
  },
  {
   "cell_type": "code",
   "execution_count": 92,
   "metadata": {},
   "outputs": [
    {
     "data": {
      "text/plain": [
       "[109.0, 111.0, 112.0, 113.0, 119.0, 122.0, 124.0, nan]"
      ]
     },
     "execution_count": 92,
     "metadata": {},
     "output_type": "execute_result"
    }
   ],
   "source": [
    "detectOutliers(dfRegionalIB['Age'])\n",
    "#Outliers are 2017 and NaN"
   ]
  },
  {
   "cell_type": "code",
   "execution_count": 93,
   "metadata": {},
   "outputs": [],
   "source": [
    "dfRegionalIB.loc[dfRegionalIB['Commisioning Year']==0,'Commisioning Year']=2017"
   ]
  },
  {
   "cell_type": "code",
   "execution_count": 94,
   "metadata": {
    "collapsed": true
   },
   "outputs": [],
   "source": [
    "dfRegionalIB.loc[dfRegionalIB['Age']==2017,'Age']=0"
   ]
  },
  {
   "cell_type": "code",
   "execution_count": 95,
   "metadata": {},
   "outputs": [
    {
     "data": {
      "text/plain": [
       "[1893.0, 1895.0, 1898.0, 1904.0, 1905.0, 1906.0, 1908.0, nan]"
      ]
     },
     "execution_count": 95,
     "metadata": {},
     "output_type": "execute_result"
    }
   ],
   "source": [
    "detectOutliers(dfRegionalIB['Commisioning Year'])\n",
    "#Outliers are OK"
   ]
  },
  {
   "cell_type": "code",
   "execution_count": 96,
   "metadata": {},
   "outputs": [
    {
     "data": {
      "text/plain": [
       "[109.0, 111.0, 112.0, 113.0, 119.0, 122.0, 124.0, nan]"
      ]
     },
     "execution_count": 96,
     "metadata": {},
     "output_type": "execute_result"
    }
   ],
   "source": [
    "detectOutliers(dfRegionalIB['Age'])\n",
    "#Outliers are OK"
   ]
  },
  {
   "cell_type": "code",
   "execution_count": 106,
   "metadata": {},
   "outputs": [
    {
     "data": {
      "text/html": [
       "<div>\n",
       "<style>\n",
       "    .dataframe thead tr:only-child th {\n",
       "        text-align: right;\n",
       "    }\n",
       "\n",
       "    .dataframe thead th {\n",
       "        text-align: left;\n",
       "    }\n",
       "\n",
       "    .dataframe tbody tr th {\n",
       "        vertical-align: top;\n",
       "    }\n",
       "</style>\n",
       "<table border=\"1\" class=\"dataframe\">\n",
       "  <thead>\n",
       "    <tr style=\"text-align: right;\">\n",
       "      <th></th>\n",
       "      <th>PLANT Name</th>\n",
       "      <th>MW</th>\n",
       "      <th>Age</th>\n",
       "      <th>Commisioning Year</th>\n",
       "    </tr>\n",
       "  </thead>\n",
       "  <tbody>\n",
       "    <tr>\n",
       "      <th>648</th>\n",
       "      <td>CABEZA DE BOI</td>\n",
       "      <td>15.50</td>\n",
       "      <td>NaN</td>\n",
       "      <td>NaN</td>\n",
       "    </tr>\n",
       "    <tr>\n",
       "      <th>649</th>\n",
       "      <td>CABEZA DE BOI</td>\n",
       "      <td>15.50</td>\n",
       "      <td>NaN</td>\n",
       "      <td>NaN</td>\n",
       "    </tr>\n",
       "    <tr>\n",
       "      <th>1180</th>\n",
       "      <td>DA FAZENDA</td>\n",
       "      <td>10.24</td>\n",
       "      <td>NaN</td>\n",
       "      <td>NaN</td>\n",
       "    </tr>\n",
       "    <tr>\n",
       "      <th>1181</th>\n",
       "      <td>DA FAZENDA</td>\n",
       "      <td>10.24</td>\n",
       "      <td>NaN</td>\n",
       "      <td>NaN</td>\n",
       "    </tr>\n",
       "    <tr>\n",
       "      <th>3271</th>\n",
       "      <td>RIO TIMBO</td>\n",
       "      <td>5.50</td>\n",
       "      <td>NaN</td>\n",
       "      <td>NaN</td>\n",
       "    </tr>\n",
       "    <tr>\n",
       "      <th>3457</th>\n",
       "      <td>SALTO VOLTAO</td>\n",
       "      <td>8.20</td>\n",
       "      <td>NaN</td>\n",
       "      <td>NaN</td>\n",
       "    </tr>\n",
       "  </tbody>\n",
       "</table>\n",
       "</div>"
      ],
      "text/plain": [
       "         PLANT Name     MW  Age  Commisioning Year\n",
       "648   CABEZA DE BOI  15.50  NaN                NaN\n",
       "649   CABEZA DE BOI  15.50  NaN                NaN\n",
       "1180     DA FAZENDA  10.24  NaN                NaN\n",
       "1181     DA FAZENDA  10.24  NaN                NaN\n",
       "3271      RIO TIMBO   5.50  NaN                NaN\n",
       "3457   SALTO VOLTAO   8.20  NaN                NaN"
      ]
     },
     "execution_count": 106,
     "metadata": {},
     "output_type": "execute_result"
    }
   ],
   "source": [
    "dfRegionalIB.loc[((dfRegionalIB['Age'].isnull() & (dfRegionalIB['MW']>=5)),\n",
    "                  ['PLANT Name','MW','Age','Commisioning Year'])]"
   ]
  },
  {
   "cell_type": "code",
   "execution_count": 112,
   "metadata": {},
   "outputs": [],
   "source": [
    "dfRegionalIB.loc[dfRegionalIB['PLANT Name']=='CABEZA DE BOI','Age']=2016\n",
    "dfRegionalIB.loc[dfRegionalIB['PLANT Name']=='CABEZA DE BOI','Age']=2016\n",
    "dfRegionalIB.loc[dfRegionalIB['PLANT Name']=='CABEZA DE BOI','Age']=1959\n",
    "dfRegionalIB.loc[dfRegionalIB['PLANT Name']=='CABEZA DE BOI','Age']=2001\n",
    "dfRegionalIB.loc[dfRegionalIB['PLANT Name']=='CABEZA DE BOI','Commisioning Year']=1\n",
    "dfRegionalIB.loc[dfRegionalIB['PLANT Name']=='CABEZA DE BOI','Commisioning Year']=1\n",
    "dfRegionalIB.loc[dfRegionalIB['PLANT Name']=='CABEZA DE BOI','Commisioning Year']=58\n",
    "dfRegionalIB.loc[dfRegionalIB['PLANT Name']=='CABEZA DE BOI','Commisioning Year']=16"
   ]
  },
  {
   "cell_type": "code",
   "execution_count": null,
   "metadata": {
    "collapsed": true
   },
   "outputs": [],
   "source": []
  }
 ],
 "metadata": {
  "kernelspec": {
   "display_name": "Python 3",
   "language": "python",
   "name": "python3"
  },
  "language_info": {
   "codemirror_mode": {
    "name": "ipython",
    "version": 3
   },
   "file_extension": ".py",
   "mimetype": "text/x-python",
   "name": "python",
   "nbconvert_exporter": "python",
   "pygments_lexer": "ipython3",
   "version": "3.6.2"
  }
 },
 "nbformat": 4,
 "nbformat_minor": 2
}
